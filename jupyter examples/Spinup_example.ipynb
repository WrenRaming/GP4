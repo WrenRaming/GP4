{
 "cells": [
  {
   "cell_type": "markdown",
   "id": "be36b564-6932-43fd-8715-9738c6d128d4",
   "metadata": {},
   "source": [
    "## Spin up example\n",
    "This notebook is an example of how to use the tP4 to automate model spin-up by rerunning the same forcings until a desired groundwater level is obtained. (NEEDS TO BE CLEANED UP W/ NOTES FOR CLARITY). ALSO: Currently this assumes model has been run once--look at spinup.py for better example on how to execute spinup."
   ]
  },
  {
   "cell_type": "code",
   "execution_count": null,
   "id": "aff0b003-f1c2-49fe-b469-752510fc8266",
   "metadata": {},
   "outputs": [],
   "source": [
    "import sys\n",
    "from datetime import datetime\n",
    "import os\n",
    "os.chdir(\"../..\")\n",
    "\n",
    "\n",
    "extra_path = \"/Users/lraming/Documents/Repos/GP4\"\n",
    "if extra_path not in sys.path:\n",
    "    sys.path.append(extra_path)\n",
    "\n",
    "from tribsmodel import Model as model\n",
    "\n",
    "m = model()"
   ]
  },
  {
   "cell_type": "code",
   "execution_count": null,
   "id": "7fb0bc7c-6af1-4130-a950-8dbc81e254a6",
   "metadata": {},
   "outputs": [],
   "source": [
    "input_file = 'sycMS2.in'\n",
    "\n",
    "base_name = 'ms2_'\n",
    "\n",
    "m.read_input_file(input_file)\n",
    "\n",
    "# gw voi file from intial run will want to update in future\n",
    "m.options[\"optgwfile\"][\"value\"] = 1\n",
    "gwvoi = \"results/2023-10-19/ms2_0_gwvoi\"\n",
    "end_time = int(m.options[\"runtime\"][\"value\"])\n"
   ]
  },
  {
   "cell_type": "code",
   "execution_count": null,
   "id": "4086f4a8-50ce-494b-b8b2-d11e5d354cfa",
   "metadata": {},
   "outputs": [],
   "source": [
    "m.check_paths()"
   ]
  },
  {
   "cell_type": "code",
   "execution_count": null,
   "id": "d2a11040-b2a1-4105-ba63-ae2dfa1fe041",
   "metadata": {},
   "outputs": [],
   "source": [
    "### Currently this assumes model has been run once--look at spinup.py for better example on how to execute spinup\n",
    "\n",
    "# gw voi file from intial run will want to update in future\n",
    "m.options[\"optgwfile\"][\"value\"] = 1\n",
    "gwvoi = \"results/2023-10-19/ms2_0_gwvoi\"\n",
    "end_time = int(m.options[\"runtime\"][\"value\"])\n",
    "\n",
    "# Get today's date and make results directory\n",
    "today = datetime.now().date()\n",
    "today = today.strftime('%Y-%m-%d')\n",
    "todays_results = 'results/' + today + '/'\n",
    "\n",
    "try:\n",
    "    os.makedirs(todays_results)\n",
    "except FileExistsError:\n",
    "    # directory already exists\n",
    "    pass\n",
    "\n",
    "\n",
    "# currently just running spinup for 3 years total, but maybe better approach.\n",
    "\n",
    "iterations = [1, 2]\n",
    "\n",
    "for i in iterations:\n",
    "    result_path = todays_results + str(i)\n",
    "    \n",
    "    try:\n",
    "        os.makedirs(result_path)\n",
    "    except FileExistsError:\n",
    "        # directory already exists\n",
    "        pass\n",
    "  \n",
    "    outfiles = result_path + '/' + base_name\n",
    "    m.options[\"outfilename\"][\"value\"] = outfiles\n",
    "    m.options[\"outhydrofilename\"][\"value\"] = outfiles\n",
    "    m.options['gwaterfile']['value'] = gwvoi\n",
    "    m.write_input_file(input_file)\n",
    "    m.run('./tRIBS', input_file, mpi_command='mpirun -n 4')\n",
    "\n",
    "    # update gwvoi file\n",
    "    gwvoi = m.options[\"outfilename\"][\"value\"] + str(i) + \"_gwvoi\"\n",
    "\n",
    "    # merger parallel files and write ouyt gwvoi file\n",
    "    df = m.merge_parllel_spatial_files(dtime=end_time, write=False)\n",
    "    df = df[str(end_time)]\n",
    "    df[['ID', 'Nwt']].to_csv(gwvoi, sep='\\t', index=False, header=False)"
   ]
  },
  {
   "cell_type": "code",
   "execution_count": null,
   "id": "4e1b48ac-5275-4dcb-af39-b393d1c4e393",
   "metadata": {},
   "outputs": [],
   "source": [
    "import pandas as pd\n",
    "import numpy as np"
   ]
  },
  {
   "cell_type": "code",
   "execution_count": null,
   "id": "36abb3ab-0aca-44fb-a40d-f1d306229f3d",
   "metadata": {},
   "outputs": [],
   "source": [
    "# GW runs to look at: gwvoi in 1, gwvoi in 2, and 8700.d in 2\n",
    "column_names=[\"ID\",\"Nwt\"]\n",
    "runs = [df, pd.read_csv(\"results/2023-10-23/1/ms2_1_gwvoi\",names=column_names,sep='\\t'), pd.read_csv(\"results/2023-10-19/ms2_0_gwvoi\",names=column_names,sep='\\t')] \n",
    "titles = [0,1,2]"
   ]
  },
  {
   "cell_type": "code",
   "execution_count": null,
   "id": "e5bea045-da9f-4933-9080-7ee3cab1ec2d",
   "metadata": {},
   "outputs": [],
   "source": [
    "for run,title in zip(runs,titles):\n",
    "    ax = run[\"Nwt\"].plot(kind='hist', alpha=0.5, legend=True, label=title)\n",
    "ax.set_xlabel('Nwt (mm)')"
   ]
  },
  {
   "cell_type": "markdown",
   "id": "f6543596-808b-43d3-bf64-743157cf23be",
   "metadata": {},
   "source": [
    "__Mean difference between runs 1 and 2__"
   ]
  },
  {
   "cell_type": "code",
   "execution_count": null,
   "id": "74ff760b-ef86-491c-b74d-9f994bdf3c74",
   "metadata": {},
   "outputs": [],
   "source": [
    "# mean difference between runs 1 and 2\n",
    "abs(np.mean(df.Nwt-runs[1]['Nwt']))"
   ]
  },
  {
   "cell_type": "markdown",
   "id": "fd915596-cd7b-495c-a1ec-95e8edbb7d8e",
   "metadata": {},
   "source": [
    "__Mean difference between runs 0 and 2__"
   ]
  },
  {
   "cell_type": "code",
   "execution_count": null,
   "id": "13bd679a-b3f9-417b-b136-0e6b346a8369",
   "metadata": {},
   "outputs": [],
   "source": [
    "# mean difference between runs 0 and 1\n",
    "abs(np.mean(runs[2]['Nwt']-runs[0]['Nwt']))"
   ]
  }
 ],
 "metadata": {
  "kernelspec": {
   "display_name": "Python 3 (ipykernel)",
   "language": "python",
   "name": "python3"
  },
  "language_info": {
   "codemirror_mode": {
    "name": "ipython",
    "version": 3
   },
   "file_extension": ".py",
   "mimetype": "text/x-python",
   "name": "python",
   "nbconvert_exporter": "python",
   "pygments_lexer": "ipython3",
   "version": "3.11.4"
  }
 },
 "nbformat": 4,
 "nbformat_minor": 5
}
