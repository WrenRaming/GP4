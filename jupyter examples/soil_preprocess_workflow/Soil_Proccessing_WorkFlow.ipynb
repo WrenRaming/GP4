{
 "cells": [
  {
   "cell_type": "code",
   "execution_count": 1,
   "id": "f1c54dcd-8472-4292-a0ed-5747a7b2d1d7",
   "metadata": {},
   "outputs": [],
   "source": [
    "import os\n",
    "import sys\n",
    "import glob\n",
    "\n",
    "extra_path = f\"{os.environ['HOME']}/Documents/Repos/tP4\"\n",
    "if extra_path not in sys.path:\n",
    "    sys.path.append(extra_path)\n",
    "    \n",
    "from pytRIBS.tmodel import Model as model\n",
    "from pytRIBS.tresults import Results as results\n",
    "m = model()"
   ]
  },
  {
   "cell_type": "markdown",
   "id": "af35cb46-24c3-4829-ac88-f51cd2912e9f",
   "metadata": {},
   "source": [
    "# Workflow demonstrating how to use pytRIBS preprocessing functions for generating soil properties readable by tRIBS"
   ]
  },
  {
   "cell_type": "markdown",
   "id": "18e25104-c7d0-440d-ba4d-7b8a0dca1ea2",
   "metadata": {},
   "source": [
    "## Objective\n",
    "The objective of this notebook is demonstrate a workflow for producing rasters (ascii files) of soil parameters utilized by tRIBS. In this example we work clipped and reprojected data from [soilgrids.org](https://soilgrids.org/). The required rasters are % sand, silt, clay, bulk density, and volumetric water content at 33 and 1500 kPa from 0-100 cm in depth. By utilizing the above soil properties and [Rosetta3](https://soil-modeling.org/resources-links/model-portal/rosetta), the method ```process_raw_soil()``` generates grids of $Ks$, $m$, $\\Psi_b$, $\\theta_s$, and $\\theta_r$.Definitons for these parameters are found [here](https://tribshms.readthedocs.io/en/latest/man/Model_Execution.html). Lastly we also show how using rasters of $Ks$ at varying depths we can estimate the exponential decay parameter $f$ with the method ```compute_ks_decay```. As you will observe calling the functions is very simple--the important information is contained in how to setup the relevant inputs (i.e. list of dictionaries) ."
   ]
  },
  {
   "cell_type": "markdown",
   "id": "3f00b0bd-eeec-4d37-8e58-db8423ec0a80",
   "metadata": {},
   "source": [
    "### Example: ```process_raw_soil()``` \n",
    "Below we demonstrate how to use process ```process_raw_soil()``` in an efficient method. As noted above this process requires clipped and projected rasters of % sand, silt, clay, bulk density, and volumetric water content at 33 and 1500 kPa from 0-100 cm in depth. The function ```process_raw_soil()``` can take either a list of dictionaries or the path to a json file, where individual dictionaries are structured as follows: ```{\"type\":\"sand_fraction\", 'path':'path/to/grid'}```. In this case the following keys for ```\"type\"``` must be provided: \n",
    "```\n",
    "\"sand_fraction\"\n",
    "\"silt_fraction\"\n",
    "\"clay_fraction\"\n",
    "\"bulk_density\"\n",
    "\"vwc_33\"\n",
    "\"vwc_1500\"\n",
    "```\n",
    "In addition to the list of dictionaries its recommended that a list of paths for the output files provided as well. And finally there is the optional parameter ```ks_only```, which when set to ```True``` only saves the $Ks$ raster. In the example below, we loop through json files ([example](./soil_inputs/0-5cm.json)) with the above format, and we only save out ks files for depths below 5cm for estimated of the decay parameter $f$."
   ]
  },
  {
   "cell_type": "code",
   "execution_count": 2,
   "id": "41e7109d-7170-4d30-beca-b3eda48fdbfa",
   "metadata": {},
   "outputs": [],
   "source": [
    "files = glob.glob('soil_inputs/*')"
   ]
  },
  {
   "cell_type": "code",
   "execution_count": 3,
   "id": "50a5b61b-2583-48c7-9111-faa82c3cbdac",
   "metadata": {},
   "outputs": [],
   "source": [
    "# for f in files:\n",
    "#     if '0-5' in f:\n",
    "#         m.process_raw_soil(f)\n",
    "#     else:\n",
    "#         m.process_raw_soil(f,ks_only=True)"
   ]
  },
  {
   "cell_type": "markdown",
   "id": "cc9dee37-9510-4fe8-b33b-2431f26bc073",
   "metadata": {},
   "source": [
    "### Example: ```compute_ks_decay()``` \n",
    "Once $Ks$ rasters from ```process_raw_soil()``` have been generated at every depth, then we can generate a raster of $f$. Similar to the above function ```compute_ks_decay()```  can take either a list of dicitonaries or the path to json file containing the list of dictionarires. An individual dictionary must be formatted as ```{\"depth\":<float of depth> , \"path\":\"path/to/25_mm_ks\"} ```. Note units of depth should be in mm. Similarly the path to the output file can specified by the optional variable ```output```."
   ]
  },
  {
   "cell_type": "code",
   "execution_count": 4,
   "id": "966ebfc2-73cc-49d3-a02c-2e98d9ffed54",
   "metadata": {},
   "outputs": [
    {
     "name": "stdout",
     "output_type": "stream",
     "text": [
      "Ingesting Ks grid at 0.0001 from: data/0-5cm_processed/Ks.asc\n",
      "Ingesting Ks grid at 50 from: data/5-15cm_processed/Ks.asc\n",
      "Ingesting Ks grid at 150 from: data/15-30cm_processed/Ks.asc\n",
      "Ingesting Ks grid at 300 from: data/30-60cm_processed/Ks.asc\n"
     ]
    },
    {
     "ename": "ValueError",
     "evalue": "Inconsistent shapes between bounds and `x0`.",
     "output_type": "error",
     "traceback": [
      "\u001b[0;31m---------------------------------------------------------------------------\u001b[0m",
      "\u001b[0;31mValueError\u001b[0m                                Traceback (most recent call last)",
      "Cell \u001b[0;32mIn[4], line 1\u001b[0m\n\u001b[0;32m----> 1\u001b[0m \u001b[43mm\u001b[49m\u001b[38;5;241;43m.\u001b[39;49m\u001b[43mcompute_ks_decay\u001b[49m\u001b[43m(\u001b[49m\u001b[38;5;124;43m'\u001b[39;49m\u001b[38;5;124;43mdecay_data.json\u001b[39;49m\u001b[38;5;124;43m'\u001b[39;49m\u001b[43m)\u001b[49m\n",
      "File \u001b[0;32m~/Documents/Repos/tP4/pytRIBS/model/preprocess.py:291\u001b[0m, in \u001b[0;36mPreprocess.compute_ks_decay\u001b[0;34m(self, grid_input, output)\u001b[0m\n\u001b[1;32m    288\u001b[0m minf, maxf \u001b[38;5;241m=\u001b[39m \u001b[38;5;241m1E-7\u001b[39m, k0 \u001b[38;5;241m-\u001b[39m \u001b[38;5;241m1E-5\u001b[39m\n\u001b[1;32m    289\u001b[0m minks \u001b[38;5;241m=\u001b[39m \u001b[38;5;241m1\u001b[39m\n\u001b[0;32m--> 291\u001b[0m param, param_cov \u001b[38;5;241m=\u001b[39m \u001b[43mcurve_fit\u001b[49m\u001b[43m(\u001b[49m\u001b[43mdecay\u001b[49m\u001b[43m,\u001b[49m\u001b[43m \u001b[49m\u001b[43mdepth_vec\u001b[49m\u001b[43m,\u001b[49m\u001b[43m \u001b[49m\u001b[43my\u001b[49m\u001b[43m,\u001b[49m\u001b[43m \u001b[49m\u001b[43mp0\u001b[49m\u001b[38;5;241;43m=\u001b[39;49m\u001b[43mnp\u001b[49m\u001b[38;5;241;43m.\u001b[39;49m\u001b[43mmean\u001b[49m\u001b[43m(\u001b[49m\u001b[43m[\u001b[49m\u001b[43mminf\u001b[49m\u001b[43m,\u001b[49m\u001b[43m \u001b[49m\u001b[43mmaxf\u001b[49m\u001b[43m]\u001b[49m\u001b[43m)\u001b[49m\u001b[43m,\u001b[49m\u001b[43m \u001b[49m\u001b[43mbounds\u001b[49m\u001b[43m \u001b[49m\u001b[38;5;241;43m=\u001b[39;49m\u001b[43m \u001b[49m\u001b[43m(\u001b[49m\u001b[43m[\u001b[49m\u001b[43mminf\u001b[49m\u001b[43m,\u001b[49m\u001b[43m \u001b[49m\u001b[43mmaxf\u001b[49m\u001b[43m]\u001b[49m\u001b[43m,\u001b[49m\u001b[43m[\u001b[49m\u001b[43mminks\u001b[49m\u001b[43m,\u001b[49m\u001b[43m \u001b[49m\u001b[43mk0\u001b[49m\u001b[43m]\u001b[49m\u001b[43m)\u001b[49m\u001b[43m)\u001b[49m\n\u001b[1;32m    293\u001b[0m \u001b[38;5;66;03m# Write Curve fitting results to grid\u001b[39;00m\n\u001b[1;32m    294\u001b[0m f_grid[i, j] \u001b[38;5;241m=\u001b[39m param[\u001b[38;5;241m0\u001b[39m]\n",
      "File \u001b[0;32m/opt/homebrew/lib/python3.11/site-packages/scipy/optimize/_minpack_py.py:974\u001b[0m, in \u001b[0;36mcurve_fit\u001b[0;34m(f, xdata, ydata, p0, sigma, absolute_sigma, check_finite, bounds, method, jac, full_output, nan_policy, **kwargs)\u001b[0m\n\u001b[1;32m    971\u001b[0m \u001b[38;5;28;01mif\u001b[39;00m \u001b[38;5;124m'\u001b[39m\u001b[38;5;124mmax_nfev\u001b[39m\u001b[38;5;124m'\u001b[39m \u001b[38;5;129;01mnot\u001b[39;00m \u001b[38;5;129;01min\u001b[39;00m kwargs:\n\u001b[1;32m    972\u001b[0m     kwargs[\u001b[38;5;124m'\u001b[39m\u001b[38;5;124mmax_nfev\u001b[39m\u001b[38;5;124m'\u001b[39m] \u001b[38;5;241m=\u001b[39m kwargs\u001b[38;5;241m.\u001b[39mpop(\u001b[38;5;124m'\u001b[39m\u001b[38;5;124mmaxfev\u001b[39m\u001b[38;5;124m'\u001b[39m, \u001b[38;5;28;01mNone\u001b[39;00m)\n\u001b[0;32m--> 974\u001b[0m res \u001b[38;5;241m=\u001b[39m \u001b[43mleast_squares\u001b[49m\u001b[43m(\u001b[49m\u001b[43mfunc\u001b[49m\u001b[43m,\u001b[49m\u001b[43m \u001b[49m\u001b[43mp0\u001b[49m\u001b[43m,\u001b[49m\u001b[43m \u001b[49m\u001b[43mjac\u001b[49m\u001b[38;5;241;43m=\u001b[39;49m\u001b[43mjac\u001b[49m\u001b[43m,\u001b[49m\u001b[43m \u001b[49m\u001b[43mbounds\u001b[49m\u001b[38;5;241;43m=\u001b[39;49m\u001b[43mbounds\u001b[49m\u001b[43m,\u001b[49m\u001b[43m \u001b[49m\u001b[43mmethod\u001b[49m\u001b[38;5;241;43m=\u001b[39;49m\u001b[43mmethod\u001b[49m\u001b[43m,\u001b[49m\n\u001b[1;32m    975\u001b[0m \u001b[43m                    \u001b[49m\u001b[38;5;241;43m*\u001b[39;49m\u001b[38;5;241;43m*\u001b[39;49m\u001b[43mkwargs\u001b[49m\u001b[43m)\u001b[49m\n\u001b[1;32m    977\u001b[0m \u001b[38;5;28;01mif\u001b[39;00m \u001b[38;5;129;01mnot\u001b[39;00m res\u001b[38;5;241m.\u001b[39msuccess:\n\u001b[1;32m    978\u001b[0m     \u001b[38;5;28;01mraise\u001b[39;00m \u001b[38;5;167;01mRuntimeError\u001b[39;00m(\u001b[38;5;124m\"\u001b[39m\u001b[38;5;124mOptimal parameters not found: \u001b[39m\u001b[38;5;124m\"\u001b[39m \u001b[38;5;241m+\u001b[39m res\u001b[38;5;241m.\u001b[39mmessage)\n",
      "File \u001b[0;32m/opt/homebrew/lib/python3.11/site-packages/scipy/optimize/_lsq/least_squares.py:811\u001b[0m, in \u001b[0;36mleast_squares\u001b[0;34m(fun, x0, jac, bounds, method, ftol, xtol, gtol, x_scale, loss, f_scale, diff_step, tr_solver, tr_options, jac_sparsity, max_nfev, verbose, args, kwargs)\u001b[0m\n\u001b[1;32m    808\u001b[0m     \u001b[38;5;28;01mraise\u001b[39;00m \u001b[38;5;167;01mValueError\u001b[39;00m(\u001b[38;5;124m\"\u001b[39m\u001b[38;5;124mMethod \u001b[39m\u001b[38;5;124m'\u001b[39m\u001b[38;5;124mlm\u001b[39m\u001b[38;5;124m'\u001b[39m\u001b[38;5;124m doesn\u001b[39m\u001b[38;5;124m'\u001b[39m\u001b[38;5;124mt support bounds.\u001b[39m\u001b[38;5;124m\"\u001b[39m)\n\u001b[1;32m    810\u001b[0m \u001b[38;5;28;01mif\u001b[39;00m lb\u001b[38;5;241m.\u001b[39mshape \u001b[38;5;241m!=\u001b[39m x0\u001b[38;5;241m.\u001b[39mshape \u001b[38;5;129;01mor\u001b[39;00m ub\u001b[38;5;241m.\u001b[39mshape \u001b[38;5;241m!=\u001b[39m x0\u001b[38;5;241m.\u001b[39mshape:\n\u001b[0;32m--> 811\u001b[0m     \u001b[38;5;28;01mraise\u001b[39;00m \u001b[38;5;167;01mValueError\u001b[39;00m(\u001b[38;5;124m\"\u001b[39m\u001b[38;5;124mInconsistent shapes between bounds and `x0`.\u001b[39m\u001b[38;5;124m\"\u001b[39m)\n\u001b[1;32m    813\u001b[0m \u001b[38;5;28;01mif\u001b[39;00m np\u001b[38;5;241m.\u001b[39many(lb \u001b[38;5;241m>\u001b[39m\u001b[38;5;241m=\u001b[39m ub):\n\u001b[1;32m    814\u001b[0m     \u001b[38;5;28;01mraise\u001b[39;00m \u001b[38;5;167;01mValueError\u001b[39;00m(\u001b[38;5;124m\"\u001b[39m\u001b[38;5;124mEach lower bound must be strictly less than each \u001b[39m\u001b[38;5;124m\"\u001b[39m\n\u001b[1;32m    815\u001b[0m                      \u001b[38;5;124m\"\u001b[39m\u001b[38;5;124mupper bound.\u001b[39m\u001b[38;5;124m\"\u001b[39m)\n",
      "\u001b[0;31mValueError\u001b[0m: Inconsistent shapes between bounds and `x0`."
     ]
    }
   ],
   "source": [
    "m.compute_ks_decay('decay_data.json')"
   ]
  },
  {
   "cell_type": "markdown",
   "id": "7fbf8efb-ab36-4f84-954f-cf6e1d5a9a55",
   "metadata": {},
   "source": []
  }
 ],
 "metadata": {
  "kernelspec": {
   "display_name": "Python 3 (ipykernel)",
   "language": "python",
   "name": "python3"
  },
  "language_info": {
   "codemirror_mode": {
    "name": "ipython",
    "version": 3
   },
   "file_extension": ".py",
   "mimetype": "text/x-python",
   "name": "python",
   "nbconvert_exporter": "python",
   "pygments_lexer": "ipython3",
   "version": "3.11.6"
  }
 },
 "nbformat": 4,
 "nbformat_minor": 5
}
