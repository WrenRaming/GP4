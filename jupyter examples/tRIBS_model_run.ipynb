{
 "cells": [
  {
   "cell_type": "markdown",
   "id": "0cfd0bd5-58e1-4c31-9f60-798f24c5951c",
   "metadata": {},
   "source": [
    "# Example of seting up and executing a tRIBS model simulation\n",
    "This notebook provides an example of how to use tP4 to:\n",
    "1) Read an input file\n",
    "2) Manipulate model run options and check that file paths exist\n",
    "3) Write out an input file for simulation\n",
    "4) Execute a model run"
   ]
  },
  {
   "cell_type": "code",
   "execution_count": null,
   "id": "8e6abd22-4bfb-4ff0-a06e-a16c514622fe",
   "metadata": {},
   "outputs": [],
   "source": [
    "import sys\n",
    "import os\n",
    "import shutil"
   ]
  },
  {
   "cell_type": "markdown",
   "id": "936a0918-5147-4cab-b88d-ec1015b3154b",
   "metadata": {},
   "source": [
    "You can specify python to include the path to the tP4 library as demonstrated below.\\\n",
    "_NOTE: you will have to change extra_path to the location of the library stored on your system_"
   ]
  },
  {
   "cell_type": "code",
   "execution_count": null,
   "id": "f8891adf-d547-4f9a-8503-8faebc8d02ee",
   "metadata": {},
   "outputs": [],
   "source": [
    "# path for tP4 library, note you may need\n",
    "extra_path = \"/Users/lraming/Documents/Repos/GP4\"\n",
    "\n",
    "if extra_path not in sys.path:\n",
    "    sys.path.append(extra_path)"
   ]
  },
  {
   "cell_type": "markdown",
   "id": "965f63fc-5e1e-437b-9c32-f8f1d1881c40",
   "metadata": {},
   "source": [
    "Next import the Model class from tribsmodel, the main libary in tP4"
   ]
  },
  {
   "cell_type": "code",
   "execution_count": null,
   "id": "6fc2735a-d96a-4fbb-a01f-22fb999f8cd3",
   "metadata": {},
   "outputs": [],
   "source": [
    "from tribsmodel import Model as model"
   ]
  },
  {
   "cell_type": "markdown",
   "id": "993276a7-1efc-4202-85e7-af4331550111",
   "metadata": {},
   "source": [
    "The following line of code creates an instances from the Model class from tribsmodel. This object ```m``` can be further manipulated w predifined attributes and methods that can be used to improve the efficieny of setting up and analyzing tRIBS model simulations."
   ]
  },
  {
   "cell_type": "code",
   "execution_count": null,
   "id": "35f2115e-ffdb-4b55-b77b-d880b820a14b",
   "metadata": {},
   "outputs": [],
   "source": [
    "m = model()"
   ]
  },
  {
   "cell_type": "markdown",
   "id": "8fb465d2-8b55-402e-9870-639801779426",
   "metadata": {},
   "source": [
    "Below shows the attributes and methods associated with the instance ```m```. These can be accessed using ```.``` notation, for example ```m.read_reach_file()```."
   ]
  },
  {
   "cell_type": "code",
   "execution_count": null,
   "id": "d4b22528-2cca-4c47-9cb4-fd91e4ed2e45",
   "metadata": {},
   "outputs": [],
   "source": [
    "members = [member for member in dir(m) if not member.startswith('__')]\n",
    "print(members)"
   ]
  },
  {
   "cell_type": "markdown",
   "id": "a3d6ff12-c44d-414c-a762-e92aeabcb2e8",
   "metadata": {},
   "source": [
    "The following section of code demonstrates a general work flow for creating and input file from an existing input file, though you could create one from scratch by simply updateing the ```\"value\"``` key for options in ```m.options```."
   ]
  },
  {
   "cell_type": "code",
   "execution_count": null,
   "id": "cc2071ef-2636-47e5-a8d2-1cc04372aa23",
   "metadata": {},
   "outputs": [],
   "source": [
    "existing_infile = \"run.in\"\n",
    "m.read_input_file(\"existing_infile\")"
   ]
  },
  {
   "cell_type": "markdown",
   "id": "4c890334-b8c7-41a3-9d7a-8699fa5d270d",
   "metadata": {},
   "source": [
    "Below is an example of how to update options for the input file."
   ]
  },
  {
   "cell_type": "code",
   "execution_count": null,
   "id": "a50378af-7d40-46ac-892c-4906da84baa0",
   "metadata": {},
   "outputs": [],
   "source": [
    "m.options[\"soiltablename\"][\"value\"] = 'data/model/2023-10-16/Sycamore_new.sdt'\n",
    "m.options[\"graphfile\"][\"value\"] = \"data/model/parallel_mesh/2023-10-19/sycMS2/sycMS2_flow_4nodes.reach\"\n",
    "m.options[\"graphoption\"][\"value\"] = 1\n",
    "m.options[\"runtime\"][\"value\"] = 8760\n",
    "m.options[\"outfilename\"][\"value\"] = \"results/2023-10-19/ms2_\"\n",
    "m.options[\"outhydrofilename\"][\"value\"] = \"results/2023-10-19/ms2_\"\n",
    "m.options[\"optgwfile\"][\"value\"] = 0"
   ]
  },
  {
   "cell_type": "markdown",
   "id": "3494be73-6c4f-441d-8685-46e31d37117c",
   "metadata": {},
   "source": [
    "And then we can check the file paths to ensure they exist."
   ]
  },
  {
   "cell_type": "code",
   "execution_count": null,
   "id": "a6c9ddfa-5e20-40bb-aea5-b3d32c418233",
   "metadata": {},
   "outputs": [],
   "source": [
    "m.check_paths()"
   ]
  },
  {
   "cell_type": "markdown",
   "id": "494b987b-c38d-42c6-898b-ba82a693da2e",
   "metadata": {},
   "source": [
    "Once we are content with the updated input options, we can write out the new .in file as follows."
   ]
  },
  {
   "cell_type": "code",
   "execution_count": null,
   "id": "8d53e387-43e2-4d9b-96ff-d635d8023ce4",
   "metadata": {},
   "outputs": [],
   "source": [
    "new_input = \"new_run.in\"\n",
    "m.write_input_file(new_input)"
   ]
  },
  {
   "cell_type": "markdown",
   "id": "eaf9e1a4-8033-4bb3-b7c0-1e33c1459a6b",
   "metadata": {},
   "source": [
    "If we need to build a new version of tRIBS you can execute the following, where the first and second arugment are the paths to the build directory and source code. The verbose option lets you see the output from the build process as if you were using the shell."
   ]
  },
  {
   "cell_type": "code",
   "execution_count": null,
   "id": "714f9307-20bb-4a04-8f1f-0f8031574b96",
   "metadata": {},
   "outputs": [],
   "source": [
    "m.build(\"src/tribs_src/\",\"bin/build/\",verbose=False)\n",
    "\n",
    "# you may need to copy the code to the current directory with your input file you can use the following:\n",
    "shutil.copy(\"bin/build/tRIBS\",\"tRIBS\")"
   ]
  },
  {
   "cell_type": "markdown",
   "id": "ac6873ea-9342-448f-b068-da5b69c78992",
   "metadata": {},
   "source": [
    "Finally, to run the model you can execute the following. There are additional options in ```m.run()``` that can be specified. In this case we are also passing an OpenMpi command to run tRIBS on 4 processors."
   ]
  },
  {
   "cell_type": "code",
   "execution_count": null,
   "id": "ab3754b0-8232-4351-9d0d-30881a6694a5",
   "metadata": {},
   "outputs": [],
   "source": [
    " m.run('./tRIBS','sycMS2.in',mpi_command='mpirun -n 4')"
   ]
  }
 ],
 "metadata": {
  "kernelspec": {
   "display_name": "Python 3 (ipykernel)",
   "language": "python",
   "name": "python3"
  },
  "language_info": {
   "codemirror_mode": {
    "name": "ipython",
    "version": 3
   },
   "file_extension": ".py",
   "mimetype": "text/x-python",
   "name": "python",
   "nbconvert_exporter": "python",
   "pygments_lexer": "ipython3",
   "version": "3.11.4"
  }
 },
 "nbformat": 4,
 "nbformat_minor": 5
}
